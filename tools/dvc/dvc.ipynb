{
 "cells": [
  {
   "cell_type": "markdown",
   "metadata": {},
   "source": [
    "The first tool that I want to introduce today is called DVC ([https://dvc.org](https://dvc.org)). Many people see DVC as synonymous for git for data but as I outlined in my last blog post, there are a couple of tools available.\n",
    "\n",
    "In the first blog post, I outlined why empirical researchers may need data version control. In this post, I want to offer a hands-on approach for DVC and how it could be integrated into your own research.\n",
    "\n",
    "Why did I choose DVC: DVC is open source and storage agnostic and allows you to work with multiple storage providers. Particularly, for research purposes this might be useful as you can store your data in your usual location.\n",
    "\n",
    "I will also do a quick evaluation\n",
    "\n",
    "This tutorial expects that you have basic familiarity with Git. I will use Google Drive to showcase the tutorial (as this is what most people during my survey were using."
   ]
  },
  {
   "cell_type": "markdown",
   "metadata": {},
   "source": [
    "First I am going to load the data that we will be versioning. I am using data from my current resarch project on online communities."
   ]
  },
  {
   "cell_type": "code",
   "execution_count": 9,
   "metadata": {},
   "outputs": [],
   "source": [
    "import pandas as pd\n",
    "df = pd.read_csv(\"../../data/dvc_comments.csv\")"
   ]
  },
  {
   "cell_type": "code",
   "execution_count": 10,
   "metadata": {},
   "outputs": [
    {
     "data": {
      "text/html": [
       "<div>\n",
       "<style scoped>\n",
       "    .dataframe tbody tr th:only-of-type {\n",
       "        vertical-align: middle;\n",
       "    }\n",
       "\n",
       "    .dataframe tbody tr th {\n",
       "        vertical-align: top;\n",
       "    }\n",
       "\n",
       "    .dataframe thead th {\n",
       "        text-align: right;\n",
       "    }\n",
       "</style>\n",
       "<table border=\"1\" class=\"dataframe\">\n",
       "  <thead>\n",
       "    <tr style=\"text-align: right;\">\n",
       "      <th></th>\n",
       "      <th>comment_date_published</th>\n",
       "      <th>user_name</th>\n",
       "      <th>comment_text</th>\n",
       "    </tr>\n",
       "  </thead>\n",
       "  <tbody>\n",
       "    <tr>\n",
       "      <th>0</th>\n",
       "      <td>2007-10-15</td>\n",
       "      <td>Tobi</td>\n",
       "      <td>Hallo, guter Tip, von wann ist das Angebot ?? ...</td>\n",
       "    </tr>\n",
       "    <tr>\n",
       "      <th>1</th>\n",
       "      <td>2007-10-15</td>\n",
       "      <td>Schnappi</td>\n",
       "      <td>steht links oben neben dem artikel : September...</td>\n",
       "    </tr>\n",
       "  </tbody>\n",
       "</table>\n",
       "</div>"
      ],
      "text/plain": [
       "  comment_date_published user_name  \\\n",
       "0             2007-10-15      Tobi   \n",
       "1             2007-10-15  Schnappi   \n",
       "\n",
       "                                        comment_text  \n",
       "0  Hallo, guter Tip, von wann ist das Angebot ?? ...  \n",
       "1  steht links oben neben dem artikel : September...  "
      ]
     },
     "execution_count": 10,
     "metadata": {},
     "output_type": "execute_result"
    }
   ],
   "source": [
    "df.head(2)"
   ]
  },
  {
   "cell_type": "code",
   "execution_count": 11,
   "metadata": {},
   "outputs": [
    {
     "data": {
      "text/plain": [
       "100000"
      ]
     },
     "execution_count": 11,
     "metadata": {},
     "output_type": "execute_result"
    }
   ],
   "source": [
    "len(df)"
   ]
  },
  {
   "cell_type": "code",
   "execution_count": 32,
   "metadata": {},
   "outputs": [
    {
     "name": "stdout",
     "output_type": "stream",
     "text": [
      "On branch main\n",
      "Your branch is up to date with 'origin/main'.\n",
      "\n",
      "Changes not staged for commit:\n",
      "  (use \"git add <file>...\" to update what will be committed)\n",
      "  (use \"git restore <file>...\" to discard changes in working directory)\n",
      "\t\u001b[31mmodified:   dvc.ipynb\u001b[m\n",
      "\n",
      "no changes added to commit (use \"git add\" and/or \"git commit -a\")\n"
     ]
    }
   ],
   "source": [
    "!git status"
   ]
  },
  {
   "cell_type": "code",
   "execution_count": 33,
   "metadata": {},
   "outputs": [
    {
     "name": "stdout",
     "output_type": "stream",
     "text": [
      "\u001b[31mERROR\u001b[39m: the following arguments are required: url\n",
      "usage: dvc list [-h] [-q | -v] [-R] [--dvc-only] [--show-json]\n",
      "                [--rev [<commit>]]\n",
      "                url [path]\n",
      "\n",
      "List repository contents, including files and directories tracked by DVC and by Git.\n",
      "Documentation: <\u001b[36mhttps://man.dvc.org/list\u001b[39m>\n",
      "\n",
      "positional arguments:\n",
      "  url               Location of DVC repository to list\n",
      "  path              Path to directory within the repository to list outputs for\n",
      "\n",
      "optional arguments:\n",
      "  -h, --help        show this help message and exit\n",
      "  -q, --quiet       Be quiet.\n",
      "  -v, --verbose     Be verbose.\n",
      "  -R, --recursive   Recursively list files.\n",
      "  --dvc-only        Show only DVC outputs.\n",
      "  --show-json       Show output in JSON format.\n",
      "  --rev [<commit>]  Git revision (e.g. SHA, branch, tag)\n",
      "\u001b[0m"
     ]
    }
   ],
   "source": [
    "!dvc list"
   ]
  },
  {
   "cell_type": "code",
   "execution_count": 29,
   "metadata": {},
   "outputs": [
    {
     "name": "stdout",
     "output_type": "stream",
     "text": [
      "Data and pipelines are up to date.                                              \n",
      "\u001b[0m"
     ]
    }
   ],
   "source": [
    "!dvc status"
   ]
  },
  {
   "cell_type": "markdown",
   "metadata": {},
   "source": [
    "Add new file and track with dvc"
   ]
  },
  {
   "cell_type": "code",
   "execution_count": 19,
   "metadata": {},
   "outputs": [
    {
     "name": "stdout",
     "output_type": "stream",
     "text": [
      "Adding...                                                                       \n",
      "\u001b[31mERROR\u001b[39m: stage working dir '/Users/florianpethig/Documents/datavc/tools/dvc/data' does not exist\n",
      "\u001b[0m"
     ]
    }
   ],
   "source": [
    "!dvc add data/dvc_comments.csv"
   ]
  },
  {
   "cell_type": "code",
   "execution_count": 58,
   "metadata": {},
   "outputs": [],
   "source": [
    "!git add data/.gitignore data/dvc_comments.csv.dvc"
   ]
  },
  {
   "cell_type": "code",
   "execution_count": 59,
   "metadata": {},
   "outputs": [
    {
     "name": "stdout",
     "output_type": "stream",
     "text": [
      "[main bc573d3] Add raw data\n",
      " 2 files changed, 4 insertions(+)\n",
      " create mode 100644 data/dvc_comments.csv.dvc\n"
     ]
    }
   ],
   "source": [
    "!git commit -m \"Add raw data\""
   ]
  },
  {
   "cell_type": "code",
   "execution_count": 60,
   "metadata": {},
   "outputs": [
    {
     "name": "stdout",
     "output_type": "stream",
     "text": [
      "Enumerating objects: 8, done.\n",
      "Counting objects: 100% (8/8), done.\n",
      "Delta compression using up to 8 threads\n",
      "Compressing objects: 100% (4/4), done.\n",
      "Writing objects: 100% (5/5), 446 bytes | 446.00 KiB/s, done.\n",
      "Total 5 (delta 1), reused 0 (delta 0)\n",
      "remote: Resolving deltas: 100% (1/1), completed with 1 local object.\u001b[K\n",
      "To https://github.com/florianpethig/datavc.git\n",
      "   0010af1..bc573d3  main -> main\n"
     ]
    }
   ],
   "source": [
    "!git push"
   ]
  },
  {
   "cell_type": "code",
   "execution_count": 18,
   "metadata": {},
   "outputs": [
    {
     "name": "stdout",
     "output_type": "stream",
     "text": [
      "storage\tgdrive://18YTEnKHyl1LVgA7-Wlx7E_oo7Zw4hx5Q\n",
      "\u001b[0m"
     ]
    }
   ],
   "source": [
    "!dvc remote list"
   ]
  },
  {
   "cell_type": "code",
   "execution_count": null,
   "metadata": {},
   "outputs": [],
   "source": [
    "!dvc push"
   ]
  },
  {
   "cell_type": "code",
   "execution_count": 63,
   "metadata": {},
   "outputs": [],
   "source": [
    "!rm -f data/dvc_comments.csv\n",
    "!rm -rf .dvc/cache"
   ]
  },
  {
   "cell_type": "code",
   "execution_count": 64,
   "metadata": {},
   "outputs": [
    {
     "name": "stdout",
     "output_type": "stream",
     "text": [
      "\u001b[33m+-----------------------------------------+\n",
      "\u001b[39m\u001b[33m|\u001b[39m                                         \u001b[33m|\u001b[39m\n",
      "\u001b[33m|\u001b[39m     Update available \u001b[31m1.2.2\u001b[39m -> \u001b[32m1.9.1\u001b[39m     \u001b[33m|\u001b[39m\n",
      "\u001b[33m|\u001b[39m     Run `\u001b[33mpip\u001b[39m install dvc \u001b[34m--upgrade\u001b[39m`     \u001b[33m|\u001b[39m\n",
      "\u001b[33m|\u001b[39m                                         \u001b[33m|\u001b[39m\n",
      "\u001b[33m+-----------------------------------------+\n",
      "\u001b[39m\n",
      "  0% Downloading|                                    |0/1 [00:00<?,     ?file/s]\n",
      "!\u001b[A\n",
      "  0% data/dvc_comments.csv|                       |0.00/? [00:00<?,        ?B/s]\u001b[A\n",
      "100% data/dvc_comments.csv|██████████████|18.7M/18.7M [00:04<00:00,    4.18MB/s]\u001b[A\n",
      "\u001b[32mA\u001b[39m\tdata/dvc_comments.csv                                               \u001b[A\n",
      "1 file added and 1 file fetched\n",
      "\u001b[0m"
     ]
    }
   ],
   "source": [
    "!dvc pull"
   ]
  },
  {
   "cell_type": "code",
   "execution_count": 65,
   "metadata": {},
   "outputs": [],
   "source": [
    "df['comment_tokenized'] = df['comment_text']\n",
    "df['comment_tokenized'] = df.comment_tokenized.str.replace(r'[^\\w\\s]+', ' ')\n",
    "df['comment_tokenized'] = [str(token).lower() for token in df.comment_tokenized]\n",
    "df['comment_tokenized'] = df.comment_tokenized.str.strip().str.split()\n",
    "df['comment_length'] = df.comment_tokenized.str.len()"
   ]
  },
  {
   "cell_type": "code",
   "execution_count": 3,
   "metadata": {},
   "outputs": [],
   "source": [
    "#df.head(10)"
   ]
  },
  {
   "cell_type": "code",
   "execution_count": 67,
   "metadata": {},
   "outputs": [],
   "source": [
    "df.to_csv(\"data/dvc_comments.csv\", index=False)"
   ]
  },
  {
   "cell_type": "code",
   "execution_count": 15,
   "metadata": {},
   "outputs": [
    {
     "name": "stdout",
     "output_type": "stream",
     "text": [
      "100% Add|██████████████████████████████████████████████|1/1 [00:02,  2.56s/file]\n",
      "\n",
      "To track the changes with git, run:\n",
      "\n",
      "\tgit add ../../data/dvc_comments.csv.dvc\n",
      "\u001b[0m"
     ]
    }
   ],
   "source": [
    "!dvc add ../../data/dvc_comments.csv"
   ]
  },
  {
   "cell_type": "code",
   "execution_count": 21,
   "metadata": {},
   "outputs": [
    {
     "name": "stdout",
     "output_type": "stream",
     "text": [
      "On branch main\n",
      "Your branch is ahead of 'origin/main' by 1 commit.\n",
      "  (use \"git push\" to publish your local commits)\n",
      "\n",
      "Changes not staged for commit:\n",
      "\t\u001b[31mmodified:   dvc.ipynb\u001b[m\n",
      "\n",
      "no changes added to commit\n"
     ]
    }
   ],
   "source": [
    "!git add ../../data/dvc_comments.csv.dvc\n",
    "!git commit -m \"Dataset updates\""
   ]
  },
  {
   "cell_type": "code",
   "execution_count": 25,
   "metadata": {},
   "outputs": [
    {
     "name": "stdout",
     "output_type": "stream",
     "text": [
      "storage\tgdrive://18YTEnKHyl1LVgA7-Wlx7E_oo7Zw4hx5Q\n",
      "\u001b[0m"
     ]
    }
   ],
   "source": [
    "!dvc remote list"
   ]
  },
  {
   "cell_type": "code",
   "execution_count": 27,
   "metadata": {},
   "outputs": [
    {
     "name": "stdout",
     "output_type": "stream",
     "text": [
      "  0% Querying cache in gdrive://18YTEnKHyl1LVgA7-Wlx7E_oo7Zw4hx5Q| |0/1 [00:00<?Go to the following link in your browser:\n",
      "\n",
      "    https://accounts.google.com/o/oauth2/auth?client_id=710796635688-iivsgbgsb6uv1fap6635dhvuei09o66c.apps.googleusercontent.com&redirect_uri=urn%3Aietf%3Awg%3Aoauth%3A2.0%3Aoob&scope=https%3A%2F%2Fwww.googleapis.com%2Fauth%2Fdrive+https%3A%2F%2Fwww.googleapis.com%2Fauth%2Fdrive.appdata&access_type=offline&response_type=code&approval_prompt=force\n",
      "\n",
      "Enter verification code: ^C\n",
      "\u001b[31mERROR\u001b[39m: interrupted by the user                                        \n",
      "\u001b[0m"
     ]
    }
   ],
   "source": [
    "!dvc push"
   ]
  },
  {
   "cell_type": "code",
   "execution_count": 31,
   "metadata": {},
   "outputs": [
    {
     "name": "stdout",
     "output_type": "stream",
     "text": [
      "Enumerating objects: 7, done.\n",
      "Counting objects: 100% (7/7), done.\n",
      "Delta compression using up to 8 threads\n",
      "Compressing objects: 100% (4/4), done.\n",
      "Writing objects: 100% (4/4), 432 bytes | 432.00 KiB/s, done.\n",
      "Total 4 (delta 1), reused 0 (delta 0)\n",
      "remote: Resolving deltas: 100% (1/1), completed with 1 local object.\u001b[K\n",
      "To https://github.com/florianpethig/datavc.git\n",
      "   0418976..22864b2  main -> main\n"
     ]
    }
   ],
   "source": [
    "!git push"
   ]
  },
  {
   "cell_type": "code",
   "execution_count": 44,
   "metadata": {},
   "outputs": [],
   "source": [
    "#!git log --oneline"
   ]
  },
  {
   "cell_type": "code",
   "execution_count": 71,
   "metadata": {},
   "outputs": [
    {
     "name": "stdout",
     "output_type": "stream",
     "text": [
      "Updated 1 path from 40571ee\n"
     ]
    }
   ],
   "source": [
    "!git checkout HEAD^1 data/dvc_comments.csv.dvc"
   ]
  },
  {
   "cell_type": "code",
   "execution_count": 72,
   "metadata": {},
   "outputs": [
    {
     "name": "stdout",
     "output_type": "stream",
     "text": [
      "\u001b[33m+-----------------------------------------+\n",
      "\u001b[39m\u001b[33m|\u001b[39m                                         \u001b[33m|\u001b[39m\n",
      "\u001b[33m|\u001b[39m     Update available \u001b[31m1.2.2\u001b[39m -> \u001b[32m1.9.1\u001b[39m     \u001b[33m|\u001b[39m\n",
      "\u001b[33m|\u001b[39m     Run `\u001b[33mpip\u001b[39m install dvc \u001b[34m--upgrade\u001b[39m`     \u001b[33m|\u001b[39m\n",
      "\u001b[33m|\u001b[39m                                         \u001b[33m|\u001b[39m\n",
      "\u001b[33m+-----------------------------------------+\n",
      "\u001b[39m\n",
      "\u001b[33mM\u001b[39m\tdata/dvc_comments.csv                                               \n",
      "\u001b[0m"
     ]
    }
   ],
   "source": [
    "!dvc checkout"
   ]
  },
  {
   "cell_type": "code",
   "execution_count": 2,
   "metadata": {},
   "outputs": [],
   "source": [
    "#df = pd.read_csv(\"data/dvc_comments.csv\")\n",
    "#df.head(10)"
   ]
  },
  {
   "cell_type": "code",
   "execution_count": 35,
   "metadata": {},
   "outputs": [
    {
     "name": "stdout",
     "output_type": "stream",
     "text": [
      "\u001b[33m22864b2\u001b[m\u001b[33m (\u001b[m\u001b[1;36mHEAD -> \u001b[m\u001b[1;32mmain\u001b[m\u001b[33m, \u001b[m\u001b[1;31morigin/main\u001b[m\u001b[33m)\u001b[m Dataset updates\n",
      "\u001b[33m0418976\u001b[m reorganized folder\n",
      "\u001b[33m230f5ee\u001b[m updated blog post and readme file\n",
      "\u001b[33m61b68d7\u001b[m updated blog post\n",
      "\u001b[33md378bf3\u001b[m first blog post\n",
      "\u001b[33m2ce466b\u001b[m updated readme\n",
      "\u001b[33m20b5627\u001b[m removed ipynb checkpoints\n",
      "\u001b[33m2dfa280\u001b[m updated gitignore\n",
      "\u001b[33mee31e19\u001b[m added readme and survey\n",
      "\u001b[33m4de9448\u001b[m Dataset updates\n",
      "\u001b[33mbc573d3\u001b[m Add raw data\n",
      "\u001b[33m0010af1\u001b[m Clean repo\n",
      "\u001b[33m419d03a\u001b[m Clean up\n",
      "\u001b[33m478d77f\u001b[m Dataset updates\n",
      "\u001b[33m4c3642d\u001b[m Remove old dvc file\n",
      "\u001b[33m2cc1a91\u001b[m Add raw data\n",
      "\u001b[33m822f86f\u001b[m Revert dataset updates\n",
      "\u001b[33m7f791db\u001b[m Dataset updates\n",
      "\u001b[33m60dcae8\u001b[m Configure remote storage\n",
      "\u001b[33ma8ec3aa\u001b[m Add raw data\n",
      "\u001b[33mdb135e3\u001b[m Initialize DVC\n"
     ]
    }
   ],
   "source": [
    "!git log --oneline"
   ]
  },
  {
   "cell_type": "code",
   "execution_count": null,
   "metadata": {},
   "outputs": [],
   "source": []
  }
 ],
 "metadata": {
  "kernelspec": {
   "display_name": "Python 3",
   "language": "python",
   "name": "python3"
  },
  "language_info": {
   "codemirror_mode": {
    "name": "ipython",
    "version": 3
   },
   "file_extension": ".py",
   "mimetype": "text/x-python",
   "name": "python",
   "nbconvert_exporter": "python",
   "pygments_lexer": "ipython3",
   "version": "3.7.6"
  }
 },
 "nbformat": 4,
 "nbformat_minor": 4
}
