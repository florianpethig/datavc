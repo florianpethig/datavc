{
 "cells": [
  {
   "cell_type": "code",
   "execution_count": 1792,
   "metadata": {},
   "outputs": [],
   "source": [
    "import pandas as pd"
   ]
  },
  {
   "cell_type": "code",
   "execution_count": 1793,
   "metadata": {},
   "outputs": [],
   "source": [
    "df = pd.DataFrame(columns = ['optional'])"
   ]
  },
  {
   "cell_type": "code",
   "execution_count": 1794,
   "metadata": {},
   "outputs": [],
   "source": [
    "intro = {'type' : 'note',\n",
    "         'name' : 'note_intro',\n",
    "         'label' : \"My name is Florian Pethig and I am a researcher at the Chair of Enterprise Systems at University of Mannheim. As part of the [Open Science Fellows Program](https://en.wikiversity.org/wiki/Wikimedia_Deutschland/Open_Science_Fellows_Program) funded by [Wikimedia Deutschland](https://www.wikimedia.de), I am doing a survey about how researchers process and analyze their empirical research data. Answering the survey will take between 5 and 10 minutes.\"\\\n",
    "         \"\\n\\n\"\\\n",
    "         \"Your responses will serve as important input for [my project](https://de.wikiversity.org/wiki/Wikiversity:Fellow-Programm_Freies_Wissen/Einreichungen/Data_Version_Control:_Best_Practice_for_Reproducible,_Shareable_Science%3F) that identifies suitable tools to facilitate version control of research data. In the spirit of open science, I plan to publish the responses to this survey, but they will be kept anonymous.\"\\\n",
    "         \"\\n\\n\"\\\n",
    "         \"Your participation in this research is voluntary. You have the right to withdraw from the survey at any point and for any reason without penalty. By clicking the forward button, you acknowledge that you have read the information above and are consenting to participate. You are free to skip any question that you choose.\"\\\n",
    "         \"\\n\\n\"\\\n",
    "         \"If you have any questions or suggestions, please feel free to contact me at [pethig@uni-mannheim.de](mailto:pethig@uni-mannheim.de).\"\\\n",
    "         \"\\n\\n\"\\\n",
    "         \"Best,\"\\\n",
    "         \"\\n\"\\\n",
    "         \"Florian\"\n",
    "        }"
   ]
  },
  {
   "cell_type": "code",
   "execution_count": 1795,
   "metadata": {},
   "outputs": [],
   "source": [
    "end = {'type' : 'textarea',\n",
    "       'name' : 'feedback',\n",
    "       'label' : 'If you have any comments, put them in the text box. If anything in the survey was unclear, '\\\n",
    "       'I would greatly appreciate your letting me know.',\n",
    "       'showif' : 'mc_empirical != 2'\n",
    "      }"
   ]
  },
  {
   "cell_type": "code",
   "execution_count": 1796,
   "metadata": {},
   "outputs": [],
   "source": [
    "pages = []\n",
    "for i in range(1 , 9):\n",
    "    pages.append({'type' : 'submit',\n",
    "                  'name' : 'page' + str(i),\n",
    "                  'label' : 'Go on'\n",
    "                 })"
   ]
  },
  {
   "cell_type": "code",
   "execution_count": 1797,
   "metadata": {},
   "outputs": [],
   "source": [
    "academic_position = {'type' : 'select_or_add_one',\n",
    "                     'name' : 'position',\n",
    "                     'label' : 'What is your current academic position? \\n *If you need more choices, just add your own by typing into the search field and pressing enter.*',\n",
    "                     'choice1' : 'PhD student',\n",
    "                     'choice2' : 'Postdoctoral researcher',\n",
    "                     'choice3' : 'Junior or assistant professor',\n",
    "                     'choice4' : 'Associate or full professor'\n",
    "                    }"
   ]
  },
  {
   "cell_type": "code",
   "execution_count": 1798,
   "metadata": {},
   "outputs": [],
   "source": [
    "empirical = {'type' : 'mc',\n",
    "             'name' : 'mc_empirical',\n",
    "             'label' : 'Are you involved in a research project that deals with empirical data? This can also include secondary data.',\n",
    "             'choice1' : 'Yes',\n",
    "             'choice2' : 'No',\n",
    "             'optional' : '!'\n",
    "            }"
   ]
  },
  {
   "cell_type": "code",
   "execution_count": 1799,
   "metadata": {},
   "outputs": [],
   "source": [
    "group_size = {'type' : 'mc',\n",
    "              'name' : 'mc_group',\n",
    "              'label' : 'How many researchers typically collaborate on your research projects?',\n",
    "              'choice1' : 'I mostly work on my own',\n",
    "              'choice2' : '2-3',\n",
    "              'choice3' : '4-5',\n",
    "              'choice4' : '6-7',\n",
    "              'choice5' : '\\>= 8'              \n",
    "             }"
   ]
  },
  {
   "cell_type": "code",
   "execution_count": 1800,
   "metadata": {},
   "outputs": [],
   "source": [
    "data_type = {'type' : 'mc_multiple',\n",
    "             'name' : 'mc_data_type',\n",
    "             'label' : 'What type of data do you usually work with in your research? \\n *You can select multiple responses.*',\n",
    "             'choice1' : 'Qualitative data (e.g., interview data, product reviews)',\n",
    "             'choice2' : 'Quantitative data (e.g., survey data, observational data, web logs)',\n",
    "             'choice3' : 'Geospatial data',\n",
    "             'choice4' : 'Digital image data',\n",
    "             'choice5' : 'Digital audio data',\n",
    "             'choice6' : 'Digital video data',\n",
    "             'showif' : 'mc_empirical != 2'\n",
    "            }"
   ]
  },
  {
   "cell_type": "code",
   "execution_count": 1801,
   "metadata": {},
   "outputs": [],
   "source": [
    "data_size = {'type' : 'mc',\n",
    "             'name' : 'mc_data_size',\n",
    "             'label' : 'What is the average file size of the data that you typically work with?',\n",
    "             'choice1' : \"< 1 MB\",\n",
    "             'choice2' : \"\\>= 1 MB and < 10 MB\",\n",
    "             'choice3' : \"\\>= 10 MB and < 100 MB\",\n",
    "             'choice4' : \"\\>= 100 MB and < 1 GB\",\n",
    "             'choice5' : \"\\>= 1 GB and < 10 GB\",\n",
    "             'choice6' : \"\\>= 10 GB and < 100 GB\",\n",
    "             'choice7' : \"\\>= 100 GB and < 1 TB\",\n",
    "             'choice8' : \"\\>= 1 TB\",\n",
    "             'showif' : 'mc_empirical != 2'\n",
    "            }"
   ]
  },
  {
   "cell_type": "code",
   "execution_count": 1802,
   "metadata": {},
   "outputs": [],
   "source": [
    "pre_process = {'type' : 'textarea',\n",
    "               'name' : 'pre_process',\n",
    "               'label' : 'Please describe the steps that you typically perform to pre-process your research data before analyzing (e.g., data cleansing, filtering, tokenization).',\n",
    "               'showif' : 'mc_empirical != 2'\n",
    "              }"
   ]
  },
  {
   "cell_type": "code",
   "execution_count": 1803,
   "metadata": {},
   "outputs": [],
   "source": [
    "rep_process = {'type' : 'textarea',\n",
    "               'name' : 'rep_process',\n",
    "               'label' : 'Please describe the steps that you take to ensure the reproducibility of pre-processing steps. For example, do you note down which filters you applied (e.g., in Word, Excel, or as part of a script)?',\n",
    "               'showif' : 'mc_empirical != 2'              \n",
    "              }"
   ]
  },
  {
   "cell_type": "code",
   "execution_count": 1804,
   "metadata": {},
   "outputs": [],
   "source": [
    "prob_rep = {'type' : 'textarea',\n",
    "            'name' : 'prob_rep',\n",
    "            'label' : 'Have you ever faced problems when trying to reproduce **your own** or **others\\'** pre-processing steps? Please describe them shortly.',\n",
    "            'showif' : 'mc_empirical != 2'\n",
    "           }"
   ]
  },
  {
   "cell_type": "code",
   "execution_count": 1805,
   "metadata": {},
   "outputs": [],
   "source": [
    "tool_list = ['Python',\n",
    "             'R',\n",
    "             'Stata',\n",
    "             'SPSS',\n",
    "             'SAS',\n",
    "             'Excel',\n",
    "             'Word',\n",
    "             'Nvivo',\n",
    "             'MAXQDA',\n",
    "             'Atlas.ti',\n",
    "             'Other',\n",
    "            ]"
   ]
  },
  {
   "cell_type": "code",
   "execution_count": 1806,
   "metadata": {},
   "outputs": [],
   "source": [
    "tool1 = {'type' : 'mc_multiple',\n",
    "         'name' : 'tool1',\n",
    "         'class' : 'label_align_left',\n",
    "         'label' : 'Which programming languages/tools do you use to **pre-process** your data?',\n",
    "         'choice1' : tool_list[0],\n",
    "         'choice2' : tool_list[1],\n",
    "         'choice3' : tool_list[2],\n",
    "         'choice4' : tool_list[3],\n",
    "         'choice5' : tool_list[4],\n",
    "         'choice6' : tool_list[5],\n",
    "         'choice7' : tool_list[6],\n",
    "         'choice8' : tool_list[7],\n",
    "         'choice9' : tool_list[8],\n",
    "         'choice10' : tool_list[9],\n",
    "         'showif' : 'mc_empirical != 2'\n",
    "        }"
   ]
  },
  {
   "cell_type": "code",
   "execution_count": 1807,
   "metadata": {},
   "outputs": [],
   "source": [
    "tool2 = {'type' : 'mc_multiple',\n",
    "         'name' : 'tool2',\n",
    "         'class' : 'label_align_left',\n",
    "         'label' : 'Which programming languages/tools do you use to **analyze** your data?',\n",
    "         'choice1' : tool_list[0],\n",
    "         'choice2' : tool_list[1],\n",
    "         'choice3' : tool_list[2],\n",
    "         'choice4' : tool_list[3],\n",
    "         'choice5' : tool_list[4],\n",
    "         'choice6' : tool_list[5],\n",
    "         'choice7' : tool_list[6],\n",
    "         'choice8' : tool_list[7],\n",
    "         'choice9' : tool_list[8],\n",
    "         'choice10' : tool_list[9],\n",
    "         'showif' : 'mc_empirical != 2'\n",
    "        }"
   ]
  },
  {
   "cell_type": "code",
   "execution_count": 1808,
   "metadata": {},
   "outputs": [],
   "source": [
    "storage_list = ['Google Drive',\t\t\n",
    "                'OneDrive',\t\t\n",
    "                'Sharepoint',\t\n",
    "                'Dropbox',\t\t\n",
    "                'Nextcloud',\t\t\n",
    "                'AWS',\t\n",
    "                'Google Cloud',\t\t\n",
    "                'Microsoft Azure',\t\t\n",
    "                'osf.io',\t\t\n",
    "                'zenodo',\t\t\n",
    "                'Own computer',\t\t\n",
    "                'External hard drive',\t\n",
    "                'University servers',\t\t\n",
    "                'Other',\n",
    "               ]"
   ]
  },
  {
   "cell_type": "code",
   "execution_count": 1809,
   "metadata": {},
   "outputs": [],
   "source": [
    "storage = {'class' : 'label_align_left',\n",
    "           'type' : 'mc_multiple',\n",
    "           'name' : 'storage',\n",
    "           'label' : 'Where do you store **preliminary versions** of your research data?',\n",
    "           'choice1' : storage_list[0],\n",
    "           'choice2' : storage_list[1],\n",
    "           'choice3' : storage_list[2],\n",
    "           'choice4' : storage_list[3],\n",
    "           'choice5' : storage_list[4],\n",
    "           'choice6' : storage_list[5],\n",
    "           'choice7' : storage_list[6],\n",
    "           'choice8' : storage_list[7],\n",
    "           'choice9' : storage_list[8],\n",
    "           'choice10' : storage_list[9],\n",
    "           'choice11' : storage_list[10],\n",
    "           'choice12' : storage_list[11],\n",
    "           'choice13' : storage_list[12],\n",
    "           'choice14' : storage_list[13],\n",
    "           'showif' : 'mc_empirical != 2'\n",
    "          }"
   ]
  },
  {
   "cell_type": "code",
   "execution_count": 1810,
   "metadata": {},
   "outputs": [],
   "source": [
    "storag2 = {'class' : 'label_align_left',\n",
    "           'type' : 'mc_multiple',\n",
    "           'name' : 'storag2',\n",
    "           'label' : 'Where do you store the **final version** of your research data?',\n",
    "           'choice1' : storage_list[0],\n",
    "           'choice2' : storage_list[1],\n",
    "           'choice3' : storage_list[2],\n",
    "           'choice4' : storage_list[3],\n",
    "           'choice5' : storage_list[4],\n",
    "           'choice6' : storage_list[5],\n",
    "           'choice7' : storage_list[6],\n",
    "           'choice8' : storage_list[7],\n",
    "           'choice9' : storage_list[8],\n",
    "           'choice10' : storage_list[9],\n",
    "           'choice11' : storage_list[10],\n",
    "           'choice12' : storage_list[11],\n",
    "           'choice13' : storage_list[12],\n",
    "           'choice14' : storage_list[13],\n",
    "           'showif' : 'mc_empirical != 2'\n",
    "          }"
   ]
  },
  {
   "cell_type": "code",
   "execution_count": 1811,
   "metadata": {},
   "outputs": [],
   "source": [
    "other_tools = {'type' : 'textarea',\n",
    "               'name' : 'other_tools',\n",
    "               'label' : 'If you selected **other** above, please specify the tool(s) that you are using.',\n",
    "               'showif' : 'mc_empirical != 2'\n",
    "              }"
   ]
  },
  {
   "cell_type": "code",
   "execution_count": 1812,
   "metadata": {},
   "outputs": [],
   "source": [
    "other_store = {'type' : 'textarea',\n",
    "               'name' : 'other_store',\n",
    "               'label' : 'If you selected **other** above, please specify the storage(s) that you are using.',\n",
    "               'showif' : 'mc_empirical != 2'\n",
    "              }"
   ]
  },
  {
   "cell_type": "code",
   "execution_count": 1813,
   "metadata": {},
   "outputs": [],
   "source": [
    "other_verco = {'type' : 'textarea',\n",
    "               'name' : 'other_verco',\n",
    "               'label' : 'If you selected **other** above, please specify what kind of version control you are using.',\n",
    "               'showif' : 'mc_empirical != 2'\n",
    "              }"
   ]
  },
  {
   "cell_type": "code",
   "execution_count": 1814,
   "metadata": {},
   "outputs": [],
   "source": [
    "vercon1 = {'type' : 'mc_multiple',\n",
    "           'name' : 'vercon1',\n",
    "           'label' : 'What kind of version control do you use for manuscripts (e.g., Word files, LaTex)?',\n",
    "           'choice1' : 'I use specific tools for version control, like Git (e.g., GitLab, GitHub, Bitbucket)',\n",
    "           'choice2' : 'I mark versions using different file names, like *manuscript_v1.0*, *manuscript_10feb*',\n",
    "           'choice3' : 'I use built-in version control offered by my tool, like versions stored in cloud services (e.g., OneDrive)',\t\t\n",
    "           'choice4' : 'None',\n",
    "           'choice5' : 'Other',\n",
    "           'showif' : 'mc_empirical != 2'\n",
    "          }\n",
    "           \n",
    "vercon2 = {'type' : 'mc_multiple',\n",
    "           'name' : 'vercon2',\n",
    "           'label' : 'What kind of version control do you use for data analysis (e.g., Python scripts, DO-files)?',\n",
    "           'choice1' : 'I use specific tools for version control, like Git (e.g., GitLab, GitHub, Bitbucket)',\n",
    "           'choice2' : 'I mark versions using different file names, like *regression_v1.0*, *regression_10feb*',\n",
    "           'choice3' : 'I use built-in version control offered by my tool, like versions stored in cloud services (e.g., OneDrive)',\t\t\n",
    "           'choice4' : 'None',\n",
    "           'choice5' : 'Other',\n",
    "           'showif' : 'mc_empirical != 2'\n",
    "          }\n",
    "\n",
    "vercon3 = {'type' : 'mc_multiple',\n",
    "           'name' : 'vercon3',\n",
    "           'label' : 'What kind of version control do you use for datasets (e.g., csv, xls, or dta files)?',\n",
    "           'choice1' : 'I use specific tools for version control, like Git (e.g., GitLab, GitHub, Bitbucket)',\n",
    "           'choice2' : 'I mark versions using different file names, like *data_v1.0*, *data_10feb*',\n",
    "           'choice3' : 'I use built-in version control offered by my tool, like versions stored in cloud services (e.g., OneDrive)',\t\t\n",
    "           'choice4' : 'None',\n",
    "           'choice5' : 'Other',\n",
    "           'showif' : 'mc_empirical != 2'\n",
    "          }"
   ]
  },
  {
   "cell_type": "code",
   "execution_count": 1815,
   "metadata": {},
   "outputs": [],
   "source": [
    "dvc = {'type' : 'textarea',\n",
    "       'name' : 'dvc',\n",
    "       'label' : 'A number of new tools, such as [DVC](https://dvc.org), [Dolt](https://www.dolthub.com), or [Git LFS](https://git-lfs.github.com), offer the possibility to version control large datasets. '\\\n",
    "       'Have you worked with any of these or similar tools? If **yes**, please name the tool(s) and briefly describe your experiences. If **not**, you can leave the field empty.',\n",
    "       'showif' : 'mc_empirical != 2'\n",
    "      }"
   ]
  },
  {
   "cell_type": "code",
   "execution_count": 1816,
   "metadata": {},
   "outputs": [],
   "source": [
    "df = df.append([intro, \n",
    "                pages[0],\n",
    "                academic_position,\n",
    "                empirical,\n",
    "                group_size,\n",
    "                pages[1],\n",
    "                data_type,\n",
    "                data_size,\n",
    "                pages[2],\n",
    "                pre_process,\n",
    "                rep_process,\n",
    "                prob_rep,\n",
    "                pages[3],\n",
    "                tool1,\n",
    "                tool2,\n",
    "                other_tools,\n",
    "                pages[4],\n",
    "                storage,\n",
    "                storag2,\n",
    "                other_store,\n",
    "                pages[5],\n",
    "                vercon1,\n",
    "                vercon2,\n",
    "                vercon3,\n",
    "                other_verco,\n",
    "                dvc,\n",
    "                pages[6],\n",
    "                end,\n",
    "                pages[7],\n",
    "               ], ignore_index = True)"
   ]
  },
  {
   "cell_type": "code",
   "execution_count": 1817,
   "metadata": {},
   "outputs": [],
   "source": [
    "df.loc[df['class'].isna(), 'class'] = 'label_align_left mc_vertical'\n",
    "df.loc[df['optional'].isna(), 'optional'] = '*'"
   ]
  },
  {
   "cell_type": "code",
   "execution_count": 1818,
   "metadata": {},
   "outputs": [],
   "source": [
    "df.to_csv('datavc_survey.csv', index = False)"
   ]
  }
 ],
 "metadata": {
  "kernelspec": {
   "display_name": "Python 3",
   "language": "python",
   "name": "python3"
  },
  "language_info": {
   "codemirror_mode": {
    "name": "ipython",
    "version": 3
   },
   "file_extension": ".py",
   "mimetype": "text/x-python",
   "name": "python",
   "nbconvert_exporter": "python",
   "pygments_lexer": "ipython3",
   "version": "3.7.6"
  }
 },
 "nbformat": 4,
 "nbformat_minor": 4
}
